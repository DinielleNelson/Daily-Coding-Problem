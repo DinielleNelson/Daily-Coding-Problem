{
 "cells": [
  {
   "cell_type": "markdown",
   "metadata": {},
   "source": [
    "Given integers M and N, write a program that counts how many positive integer pairs (a, b) satisfy the following conditions:\n",
    "\n",
    "* a + b = M\n",
    "* a XOR b = N"
   ]
  },
  {
   "cell_type": "code",
   "execution_count": 55,
   "metadata": {},
   "outputs": [
    {
     "name": "stdout",
     "output_type": "stream",
     "text": [
      "Please provide a positive integer14\n",
      "Please provide another positive integer5\n",
      "14\n",
      "5\n"
     ]
    }
   ],
   "source": [
    "# Ask for and define variables M and N. This can be moved down later.\n",
    "\n",
    "inputM = input(\"Please provide a positive integer\")\n",
    "inputN = input(\"Please provide another positive integer\")\n",
    "\n",
    "# Testing\n",
    "print(inputM)\n",
    "print(inputN)"
   ]
  },
  {
   "cell_type": "code",
   "execution_count": 59,
   "metadata": {},
   "outputs": [
    {
     "name": "stdout",
     "output_type": "stream",
     "text": [
      "14\n",
      "0 0 0 no go\n",
      "1 0 1 no go\n",
      "2 0 2 no go\n",
      "3 0 3 no go\n",
      "4 0 4 no go\n",
      "5 0 5 no go\n",
      "6 0 6 no go\n",
      "7 0 7 no go\n",
      "8 0 8 no go\n",
      "9 0 9 no go\n"
     ]
    }
   ],
   "source": [
    "# Nested loop with limited a(x) and b(y) for testing\n",
    "\n",
    "counter = 0\n",
    "print(inputM)\n",
    "\n",
    "for x in range(0,10):\n",
    "    for y in range(0,10):\n",
    "        # Testing\n",
    "        if (x + y) == inputM:\n",
    "            counter =+ 1\n",
    "            print(f'{x} {y} {x + y} counter{counter}')\n",
    "        \n",
    "        else:\n",
    "            print(f'{x} {y} {x + y} no go')\n",
    "            \n",
    "            break"
   ]
  },
  {
   "cell_type": "code",
   "execution_count": null,
   "metadata": {},
   "outputs": [],
   "source": []
  },
  {
   "cell_type": "code",
   "execution_count": null,
   "metadata": {},
   "outputs": [],
   "source": []
  }
 ],
 "metadata": {
  "kernelspec": {
   "display_name": "Python [conda env:PythonData3]",
   "language": "python",
   "name": "conda-env-PythonData3-py"
  },
  "language_info": {
   "codemirror_mode": {
    "name": "ipython",
    "version": 3
   },
   "file_extension": ".py",
   "mimetype": "text/x-python",
   "name": "python",
   "nbconvert_exporter": "python",
   "pygments_lexer": "ipython3",
   "version": "3.6.7"
  }
 },
 "nbformat": 4,
 "nbformat_minor": 2
}
